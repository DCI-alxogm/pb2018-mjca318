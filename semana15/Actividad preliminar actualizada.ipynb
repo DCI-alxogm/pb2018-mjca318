{
 "cells": [
  {
   "cell_type": "markdown",
   "metadata": {},
   "source": [
    "# Semana 15\n",
    "## Actividad preliminar corregida\n",
    "### María José Cisneros Álvarez"
   ]
  },
  {
   "cell_type": "code",
   "execution_count": 1,
   "metadata": {},
   "outputs": [],
   "source": [
    "import numpy as np\n",
    "import matplotlib.pyplot as plt\n",
    "import scipy.constants as cte\n",
    "%matplotlib inline"
   ]
  },
  {
   "cell_type": "code",
   "execution_count": 2,
   "metadata": {},
   "outputs": [],
   "source": [
    "k=cte. Planck\n",
    "b=cte. Boltzmann\n",
    "c=cte. c\n",
    "V=5 \n",
    "T=1"
   ]
  },
  {
   "cell_type": "code",
   "execution_count": 3,
   "metadata": {},
   "outputs": [
    {
     "name": "stdout",
     "output_type": "stream",
     "text": [
      "(6.62607004e-34, 1.38064852e-23, 299792458.0, 5, 1)\n"
     ]
    }
   ],
   "source": [
    "print (k,b,c,v,T)"
   ]
  },
  {
   "cell_type": "code",
   "execution_count": 5,
   "metadata": {},
   "outputs": [
    {
     "data": {
      "text/plain": [
       "(5L, 43L)"
      ]
     },
     "execution_count": 5,
     "metadata": {},
     "output_type": "execute_result"
    }
   ],
   "source": [
    "#datos que voy a utilizar importados desde archivo de texto\n",
    "datos=np.loadtxt ('IRCF.txt').T\n",
    "np.shape (datos)"
   ]
  },
  {
   "cell_type": "code",
   "execution_count": 26,
   "metadata": {},
   "outputs": [],
   "source": [
    "x=datos[0] #frecuencia\n",
    "y=datos[1] #espectro\n",
    "z=datos[3] #margen de error"
   ]
  },
  {
   "cell_type": "code",
   "execution_count": 27,
   "metadata": {},
   "outputs": [],
   "source": [
    "z=z*.001 #conversion de unidades"
   ]
  },
  {
   "cell_type": "code",
   "execution_count": 14,
   "metadata": {},
   "outputs": [
    {
     "name": "stdout",
     "output_type": "stream",
     "text": [
      "[ 5.00e+06  9.00e+06  1.50e+07  4.00e+06  1.90e+07 -3.00e+07 -3.00e+07\n",
      " -1.00e+07  3.20e+07  4.00e+06 -2.00e+06  1.30e+07 -2.20e+07  8.00e+06\n",
      "  8.00e+06 -2.10e+07  9.00e+06  1.20e+07  1.10e+07 -2.90e+07 -4.60e+07\n",
      "  5.80e+07  6.00e+06 -6.00e+06  6.00e+06 -1.70e+07  6.00e+06  2.60e+07\n",
      " -1.20e+07 -1.90e+07  8.00e+06  7.00e+06  1.40e+07 -3.30e+07  6.00e+06\n",
      "  2.60e+07 -2.60e+07 -6.00e+06  8.00e+06  2.60e+07  5.70e+07 -1.16e+08\n",
      " -4.32e+08]\n"
     ]
    }
   ],
   "source": [
    "print (z)"
   ]
  },
  {
   "cell_type": "code",
   "execution_count": 23,
   "metadata": {},
   "outputs": [],
   "source": [
    "x=x*10000000000 #conversion de unidades"
   ]
  },
  {
   "cell_type": "code",
   "execution_count": 24,
   "metadata": {},
   "outputs": [
    {
     "name": "stdout",
     "output_type": "stream",
     "text": [
      "[2.270e+19 2.720e+19 3.180e+19 3.630e+19 4.080e+19 4.540e+19 4.990e+19\n",
      " 5.450e+19 5.900e+19 6.350e+19 6.810e+19 7.260e+19 7.710e+19 8.170e+19\n",
      " 8.620e+19 9.080e+19 9.530e+19 9.980e+19 1.044e+20 1.089e+20 1.134e+20\n",
      " 1.180e+20 1.225e+20 1.271e+20 1.316e+20 1.361e+20 1.407e+20 1.452e+20\n",
      " 1.497e+20 1.543e+20 1.588e+20 1.634e+20 1.679e+20 1.724e+20 1.770e+20\n",
      " 1.815e+20 1.861e+20 1.906e+20 1.951e+20 1.997e+20 2.042e+20 2.087e+20\n",
      " 2.133e+20]\n"
     ]
    }
   ],
   "source": [
    "print(x)"
   ]
  },
  {
   "cell_type": "code",
   "execution_count": 32,
   "metadata": {},
   "outputs": [],
   "source": [
    "r=np.linspace(0,0,(len(y)))"
   ]
  },
  {
   "cell_type": "code",
   "execution_count": 33,
   "metadata": {},
   "outputs": [
    {
     "data": {
      "text/plain": [
       "<matplotlib.collections.PathCollection at 0x8e47f98>"
      ]
     },
     "execution_count": 33,
     "metadata": {},
     "output_type": "execute_result"
    },
    {
     "data": {
      "image/png": "[encoded data removed]",
      "text/plain": [
       "<Figure size 432x288 with 1 Axes>"
      ]
     },
     "metadata": {
      "needs_background": "light"
     },
     "output_type": "display_data"
    }
   ],
   "source": [
    "plt.title('Radiacion cosmica de fondo de microondas')\n",
    "plt.scatter(x,y,color='purple')"
   ]
  },
  {
   "cell_type": "code",
   "execution_count": null,
   "metadata": {},
   "outputs": [],
   "source": []
  },
  {
   "cell_type": "markdown",
   "metadata": {},
   "source": [
    "# Grafica para error"
   ]
  },
  {
   "cell_type": "code",
   "execution_count": 34,
   "metadata": {},
   "outputs": [
    {
     "data": {
      "text/plain": [
       "Text(0.5,1,'Grafica de error')"
      ]
     },
     "execution_count": 34,
     "metadata": {},
     "output_type": "execute_result"
    },
    {
     "data": {
      "image/png": "[encoded data removed]",
      "text/plain": [
       "<Figure size 432x288 with 1 Axes>"
      ]
     },
     "metadata": {
      "needs_background": "light"
     },
     "output_type": "display_data"
    }
   ],
   "source": [
    "plt.errorbar(x,r,z,color='red')\n",
    "plt.title('Grafica de error')"
   ]
  },
  {
   "cell_type": "code",
   "execution_count": 35,
   "metadata": {},
   "outputs": [],
   "source": [
    "def I(v,T):\n",
    "    e=(((k*V**3)/(c**2))*(1/(np.exp((k*V)/k*T))-1))*10**(-26) \n",
    "    #Calculamos I respecto a la velocidad y  temperatura\n",
    "\n",
    "    return e"
   ]
  },
  {
   "cell_type": "code",
   "execution_count": null,
   "metadata": {},
   "outputs": [],
   "source": []
  },
  {
   "cell_type": "code",
   "execution_count": null,
   "metadata": {},
   "outputs": [],
   "source": []
  }
 ],
 "metadata": {
  "kernelspec": {
   "display_name": "Python 2",
   "language": "python",
   "name": "python2"
  },
  "language_info": {
   "codemirror_mode": {
    "name": "ipython",
    "version": 2
   },
   "file_extension": ".py",
   "mimetype": "text/x-python",
   "name": "python",
   "nbconvert_exporter": "python",
   "pygments_lexer": "ipython2",
   "version": "2.7.15"
  }
 },
 "nbformat": 4,
 "nbformat_minor": 2
}
